{
 "cells": [
  {
   "cell_type": "code",
   "execution_count": 1,
   "id": "52bf4b61",
   "metadata": {},
   "outputs": [],
   "source": [
    "from bs4 import BeautifulSoup\n",
    "import requests\n",
    "import os\n",
    "from IPython.display import display"
   ]
  },
  {
   "cell_type": "code",
   "execution_count": 2,
   "id": "cd604887",
   "metadata": {},
   "outputs": [],
   "source": [
    "url = \"http://old.aari.ru/odata/_d0015.php?lang=0&mod=1&yy=\""
   ]
  },
  {
   "cell_type": "code",
   "execution_count": 3,
   "id": "4feb8d3c",
   "metadata": {},
   "outputs": [],
   "source": [
    "r = requests.get(url)"
   ]
  },
  {
   "cell_type": "code",
   "execution_count": 4,
   "id": "258937e3",
   "metadata": {},
   "outputs": [],
   "source": [
    "soup = BeautifulSoup(r.text,\"html.parser\")"
   ]
  },
  {
   "cell_type": "code",
   "execution_count": 5,
   "id": "3a1d1ed6",
   "metadata": {},
   "outputs": [],
   "source": [
    "soup = soup.find(class_ = \"input_text\")"
   ]
  },
  {
   "cell_type": "code",
   "execution_count": 6,
   "id": "701bd5ca",
   "metadata": {},
   "outputs": [],
   "source": [
    "items = soup.select('option[value]')\n",
    "values = [item.get('value') for item in items]\n",
    "year_list = [item for item in values]"
   ]
  },
  {
   "cell_type": "code",
   "execution_count": 7,
   "id": "1cecf19d",
   "metadata": {},
   "outputs": [],
   "source": [
    "def create_links(_url):\n",
    "    r = requests.get(_url)\n",
    "    soup = BeautifulSoup(r.text,\"html.parser\")\n",
    "    soup = soup.find(id=\"tp\", class_ = \"input_text\")\n",
    "    items = soup.select('option[value*=\".gif\"]')\n",
    "    values = [item.get('value') for item in items]\n",
    "    links = ['http://old.aari.ru' + item[2:] for item in values]\n",
    "    return links"
   ]
  },
  {
   "cell_type": "code",
   "execution_count": 8,
   "id": "b8d60d2b",
   "metadata": {},
   "outputs": [],
   "source": [
    "all_links = []\n",
    "for year in year_list:\n",
    "    all_links.extend(create_links(url + year))"
   ]
  },
  {
   "cell_type": "code",
   "execution_count": 9,
   "id": "1380f648",
   "metadata": {},
   "outputs": [],
   "source": [
    "#subdir = 'ice_images'\n",
    "#os.mkdir(subdir)"
   ]
  },
  {
   "cell_type": "code",
   "execution_count": null,
   "id": "1c068d82",
   "metadata": {},
   "outputs": [],
   "source": [
    "for l in all_links:\n",
    "    filename = l.split('/')[-1]\n",
    "    img = requests.get(l)\n",
    "    out = open('ice_images/'+filename, 'wb')\n",
    "    out.write(img.content)\n",
    "    out.close()"
   ]
  },
  {
   "cell_type": "code",
   "execution_count": null,
   "id": "f9613dc4",
   "metadata": {},
   "outputs": [],
   "source": []
  },
  {
   "cell_type": "code",
   "execution_count": null,
   "id": "6d591306",
   "metadata": {},
   "outputs": [],
   "source": []
  },
  {
   "cell_type": "code",
   "execution_count": null,
   "id": "5f994905",
   "metadata": {},
   "outputs": [],
   "source": []
  },
  {
   "cell_type": "code",
   "execution_count": null,
   "id": "8d8d3eb7",
   "metadata": {},
   "outputs": [],
   "source": []
  }
 ],
 "metadata": {
  "kernelspec": {
   "display_name": "Python 3 (ipykernel)",
   "language": "python",
   "name": "python3"
  },
  "language_info": {
   "codemirror_mode": {
    "name": "ipython",
    "version": 3
   },
   "file_extension": ".py",
   "mimetype": "text/x-python",
   "name": "python",
   "nbconvert_exporter": "python",
   "pygments_lexer": "ipython3",
   "version": "3.9.7"
  },
  "toc": {
   "base_numbering": 1,
   "nav_menu": {},
   "number_sections": false,
   "sideBar": true,
   "skip_h1_title": false,
   "title_cell": "Table of Contents",
   "title_sidebar": "Contents",
   "toc_cell": false,
   "toc_position": {},
   "toc_section_display": true,
   "toc_window_display": false
  }
 },
 "nbformat": 4,
 "nbformat_minor": 5
}
